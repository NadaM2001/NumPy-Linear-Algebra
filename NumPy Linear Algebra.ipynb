{
 "cells": [
  {
   "cell_type": "code",
   "execution_count": 1,
   "id": "1316cf44-d2c7-44f8-b9d6-7907f3d5a74f",
   "metadata": {},
   "outputs": [
    {
     "name": "stdout",
     "output_type": "stream",
     "text": [
      "[[2, 3], [1, 2]]\n",
      "[[3, 4], [5, 6]]\n",
      "[[21 26]\n",
      " [13 16]]\n"
     ]
    }
   ],
   "source": [
    "# Q1 # \n",
    "\n",
    "import numpy as np\n",
    "\n",
    "x=[[2,3],[1,2]]\n",
    "y=[[3,4],[5,6]]\n",
    "\n",
    "print(x)\n",
    "print(y)\n",
    "\n",
    "print(np.dot(x,y))"
   ]
  },
  {
   "cell_type": "code",
   "execution_count": 2,
   "id": "42538752-8a19-417a-8511-71790b54100f",
   "metadata": {},
   "outputs": [
    {
     "name": "stdout",
     "output_type": "stream",
     "text": [
      "[[ 1  2  4  5]\n",
      " [ 2  4  8 10]\n",
      " [ 2  4  8 10]\n",
      " [ 3  6 12 15]]\n"
     ]
    }
   ],
   "source": [
    "# Q2 # \n",
    "\n",
    "import numpy as np\n",
    "\n",
    "x=[[1,2],[2,3]]\n",
    "y=[[1,2],[4,5]]\n",
    "\n",
    "print(np.outer(x,y))\n"
   ]
  },
  {
   "cell_type": "code",
   "execution_count": 3,
   "id": "07206b14-82e4-4d33-b1d4-266fee2b6754",
   "metadata": {},
   "outputs": [
    {
     "name": "stdout",
     "output_type": "stream",
     "text": [
      "[ 1 -7]\n",
      "[-1  7]\n"
     ]
    }
   ],
   "source": [
    "# Q3 #\n",
    "\n",
    "import numpy as np \n",
    "\n",
    "x=[[3,4],[5,7]]\n",
    "y=[[2,3],[6,7]]\n",
    "\n",
    "print(np.cross(x,y))\n",
    "print(np.cross(y,x))\n"
   ]
  },
  {
   "cell_type": "code",
   "execution_count": 5,
   "id": "dd9892ee-0481-4199-be9e-42579f4fe2f1",
   "metadata": {},
   "outputs": [
    {
     "name": "stdout",
     "output_type": "stream",
     "text": [
      "[[1 2]\n",
      " [3 4]]\n",
      "-2.0000000000000004\n"
     ]
    }
   ],
   "source": [
    "# Q4 #\n",
    "\n",
    "import numpy as np\n",
    "\n",
    "x=np.array([[1,2],[3,4]])\n",
    "\n",
    "print(x)\n",
    "\n",
    "print(np.linalg.det(x))"
   ]
  },
  {
   "cell_type": "code",
   "execution_count": null,
   "id": "0bb13185-2493-43f9-af0f-d4f34e98c81d",
   "metadata": {},
   "outputs": [],
   "source": [
    "# Q5 #\n",
    "\n",
    "import numpy as np\n",
    "\n"
   ]
  },
  {
   "cell_type": "code",
   "execution_count": 13,
   "id": "2f0c5c2a-bafb-494d-816b-8599e4fc104e",
   "metadata": {},
   "outputs": [
    {
     "name": "stdout",
     "output_type": "stream",
     "text": [
      "[[ 14  23  32]\n",
      " [ 50  86 122]\n",
      " [ 86 149 212]]\n"
     ]
    }
   ],
   "source": [
    "# Q6 #\n",
    "\n",
    "import numpy as np \n",
    "\n",
    "x=np.arange(9).reshape(3,3)\n",
    "y=np.arange(3,12).reshape(3,3)\n",
    "\n",
    "z=np.inner(x,y)\n",
    "\n",
    "print(z)"
   ]
  },
  {
   "cell_type": "code",
   "execution_count": 14,
   "id": "28cdc441-cfa4-48f5-acc2-2155f3aebc2c",
   "metadata": {},
   "outputs": [
    {
     "name": "stdout",
     "output_type": "stream",
     "text": [
      "[-0.46410162  6.46410162]\n",
      "[[-0.80689822 -0.34372377]\n",
      " [ 0.59069049 -0.9390708 ]]\n"
     ]
    }
   ],
   "source": [
    "# Q7 #\n",
    "\n",
    "import numpy as np\n",
    "\n",
    "x=np.array([[1,2],[4,5]])\n",
    "\n",
    "z,y=np.linalg.eig(x)\n",
    "\n",
    "print(z)\n",
    "print(y)"
   ]
  },
  {
   "cell_type": "code",
   "execution_count": 15,
   "id": "3a9be0e6-21fe-47ae-9723-0a8a777ffd6f",
   "metadata": {},
   "outputs": [
    {
     "name": "stdout",
     "output_type": "stream",
     "text": [
      "[ 4  5  6  8 10 12 12 15 18]\n"
     ]
    }
   ],
   "source": [
    "# Q8 #\n",
    "\n",
    "import numpy as np \n",
    "\n",
    "x=np.array([1,2,3])\n",
    "y=np.array([4,5,6])\n",
    "\n",
    "print(np.kron(x,y))"
   ]
  },
  {
   "cell_type": "code",
   "execution_count": 16,
   "id": "c46094b6-6042-42c8-9e2e-1107c7736350",
   "metadata": {},
   "outputs": [
    {
     "name": "stdout",
     "output_type": "stream",
     "text": [
      "21.590843464331634\n"
     ]
    }
   ],
   "source": [
    "# Q9 #\n",
    "\n",
    "import numpy as np \n",
    "\n",
    "from numpy import linalg as LA \n",
    "\n",
    "x=np.array([[2,3,4],[4,5,6]])\n",
    "\n",
    "print(LA.cond(x))"
   ]
  },
  {
   "cell_type": "code",
   "execution_count": 18,
   "id": "9c770f4e-762a-41b3-b4c5-d62ba5cce93c",
   "metadata": {},
   "outputs": [
    {
     "name": "stdout",
     "output_type": "stream",
     "text": [
      "9.539392014169456\n",
      "6.782329983125268\n"
     ]
    }
   ],
   "source": [
    "# Q10 #\n",
    "\n",
    "import numpy as np\n",
    "\n",
    "x=np.arange(7)\n",
    "\n",
    "print(np.linalg.norm(x))\n",
    "\n",
    "y=np.matrix('1,2;4,5')\n",
    "\n",
    "print(np.linalg.norm(y))\n"
   ]
  },
  {
   "cell_type": "code",
   "execution_count": 19,
   "id": "b4cad465-2bf7-48dc-9868-cdd0991e5aa6",
   "metadata": {},
   "outputs": [
    {
     "name": "stdout",
     "output_type": "stream",
     "text": [
      "-2.0\n"
     ]
    }
   ],
   "source": [
    "# Q11 #\n",
    "\n",
    "import numpy as np\n",
    "\n",
    "x=np.array([[2,3],[4,5]])\n",
    "\n",
    "print(np.linalg.det(x))"
   ]
  },
  {
   "cell_type": "code",
   "execution_count": 20,
   "id": "c5a38cc1-4599-4c15-bcdf-c7b9a6cb6204",
   "metadata": {},
   "outputs": [
    {
     "name": "stdout",
     "output_type": "stream",
     "text": [
      "[[-3.   2. ]\n",
      " [ 2.5 -1.5]]\n"
     ]
    }
   ],
   "source": [
    "# Q12 # \n",
    "\n",
    "import numpy as np \n",
    "\n",
    "x=np.array([[3,4],[5,6]])\n",
    "\n",
    "print(np.linalg.inv(x))"
   ]
  },
  {
   "cell_type": "code",
   "execution_count": null,
   "id": "ebd53336-f5aa-4869-8e32-04fe2f6196e1",
   "metadata": {},
   "outputs": [],
   "source": [
    "# Q17 #\n",
    "\n",
    "import numpy as np\n",
    "\n"
   ]
  },
  {
   "cell_type": "code",
   "execution_count": 21,
   "id": "6076408c-09fb-40f5-9fb4-8f46c056bb7a",
   "metadata": {},
   "outputs": [
    {
     "name": "stdout",
     "output_type": "stream",
     "text": [
      "QRResult(Q=array([[-0.51449576, -0.85749293],\n",
      "       [-0.85749293,  0.51449576]]), R=array([[-5.83095189, -7.20294058],\n",
      "       [ 0.        , -0.34299717]]))\n"
     ]
    }
   ],
   "source": [
    "# Q13 #\n",
    "\n",
    "import numpy as np\n",
    "\n",
    "x=np.array([[3,4],[5,6]])\n",
    "\n",
    "print(np.linalg.qr(x))"
   ]
  },
  {
   "cell_type": "code",
   "execution_count": 22,
   "id": "57a3cf0a-b6a8-4243-88ba-f503595d88b2",
   "metadata": {},
   "outputs": [
    {
     "name": "stdout",
     "output_type": "stream",
     "text": [
      "26.9629120178363\n"
     ]
    }
   ],
   "source": [
    "# Q14 #\n",
    "\n",
    "import numpy as np \n",
    "\n",
    "x=np.array([[2,3],[4,5]])\n",
    "\n",
    "print(np.linalg.cond(x))"
   ]
  },
  {
   "cell_type": "code",
   "execution_count": 23,
   "id": "c0ebf5f0-2379-4c8d-b983-55319975455b",
   "metadata": {},
   "outputs": [
    {
     "name": "stdout",
     "output_type": "stream",
     "text": [
      "4\n"
     ]
    }
   ],
   "source": [
    "# Q15 #\n",
    "\n",
    "import numpy as np\n",
    "\n",
    "x=np.arange(6).reshape(2,3)\n",
    "\n",
    "print(np.trace(x))"
   ]
  },
  {
   "cell_type": "code",
   "execution_count": 25,
   "id": "2b0b1801-b7fc-4493-bcf1-1a2f72b3acdd",
   "metadata": {},
   "outputs": [
    {
     "name": "stdout",
     "output_type": "stream",
     "text": [
      "14.2828568570857\n",
      "2.857326358417597e+16\n"
     ]
    }
   ],
   "source": [
    "# Q19 #\n",
    "\n",
    "import numpy as np \n",
    "\n",
    "x=np.arange(9).reshape((3,3))\n",
    "\n",
    "print(np.linalg.norm(x))\n",
    "\n",
    "print(np.linalg.cond(x))"
   ]
  },
  {
   "cell_type": "code",
   "execution_count": null,
   "id": "411eaad8-9ecc-4f31-95a4-d82747607f85",
   "metadata": {},
   "outputs": [],
   "source": []
  }
 ],
 "metadata": {
  "kernelspec": {
   "display_name": "Python 3 (ipykernel)",
   "language": "python",
   "name": "python3"
  },
  "language_info": {
   "codemirror_mode": {
    "name": "ipython",
    "version": 3
   },
   "file_extension": ".py",
   "mimetype": "text/x-python",
   "name": "python",
   "nbconvert_exporter": "python",
   "pygments_lexer": "ipython3",
   "version": "3.11.7"
  }
 },
 "nbformat": 4,
 "nbformat_minor": 5
}
